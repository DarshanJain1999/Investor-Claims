{
  "nbformat": 4,
  "nbformat_minor": 0,
  "metadata": {
    "colab": {
      "name": "Converting all text to CSV",
      "provenance": []
    },
    "kernelspec": {
      "name": "python3",
      "display_name": "Python 3"
    },
    "language_info": {
      "name": "python"
    }
  },
  "cells": [
    {
      "cell_type": "code",
      "metadata": {
        "colab": {
          "base_uri": "https://localhost:8080/"
        },
        "id": "39rc1Fm3XK2_",
        "outputId": "0cafc674-de4c-4300-a35e-a3e8611cb690"
      },
      "source": [
        "import pandas as pd\n",
        "import numpy as np\n",
        "import os\n",
        "import glob\n",
        "import csv\n",
        "from nltk.tokenize import word_tokenize, sent_tokenize\n",
        "import nltk\n",
        "nltk.download('punkt')"
      ],
      "execution_count": null,
      "outputs": [
        {
          "output_type": "stream",
          "name": "stdout",
          "text": [
            "[nltk_data] Downloading package punkt to /root/nltk_data...\n",
            "[nltk_data]   Unzipping tokenizers/punkt.zip.\n"
          ]
        },
        {
          "output_type": "execute_result",
          "data": {
            "text/plain": [
              "True"
            ]
          },
          "metadata": {},
          "execution_count": 1
        }
      ]
    },
    {
      "cell_type": "code",
      "metadata": {
        "colab": {
          "base_uri": "https://localhost:8080/"
        },
        "id": "BjbQECg4kmZf",
        "outputId": "5cdefba2-7da1-401d-f996-65939dfacc0c"
      },
      "source": [
        "from google.colab import drive\n",
        "drive.mount('/content/drive')"
      ],
      "execution_count": null,
      "outputs": [
        {
          "output_type": "stream",
          "name": "stdout",
          "text": [
            "Mounted at /content/drive\n"
          ]
        }
      ]
    },
    {
      "cell_type": "markdown",
      "metadata": {
        "id": "eQpMOHEYcsAZ"
      },
      "source": [
        "Variables\n",
        "\n",
        "1.   all_files = Files path containing all text files\n",
        "2.   CSV_path = Folder path for CSV file outputs with numerical filter\n",
        "3.   xlsx_path = Folder path for Excel file outputs with numerical filter\n",
        "4.   file_name = Filename without the extension and folder path\n",
        "5.   CSV_File = CSV file in CSV Path\n",
        "\n",
        "\n"
      ]
    },
    {
      "cell_type": "markdown",
      "metadata": {
        "id": "XvpP4Ya8Xmcb"
      },
      "source": [
        "Getting all text files from sample folder"
      ]
    },
    {
      "cell_type": "code",
      "metadata": {
        "id": "8WCuIcREXU_e"
      },
      "source": [
        "all_files = glob.glob(\"/content/drive/MyDrive/Data/Analyst report sample/*.txt\")"
      ],
      "execution_count": null,
      "outputs": []
    },
    {
      "cell_type": "code",
      "metadata": {
        "id": "pQoGvbt1XkJi",
        "colab": {
          "base_uri": "https://localhost:8080/"
        },
        "outputId": "269527f2-9ec2-4cfd-8c9a-0c02ae0a5ba2"
      },
      "source": [
        "all_files"
      ],
      "execution_count": null,
      "outputs": [
        {
          "output_type": "execute_result",
          "data": {
            "text/plain": [
              "['/content/drive/MyDrive/Data/Analyst report sample/MS_05262017.txt',\n",
              " '/content/drive/MyDrive/Data/Analyst report sample/CHTR_05302017.txt',\n",
              " '/content/drive/MyDrive/Data/Analyst report sample/LM_06132017.txt',\n",
              " '/content/drive/MyDrive/Data/Analyst report sample/SNV_06272017.txt',\n",
              " '/content/drive/MyDrive/Data/Analyst report sample/VRSN_06292017.txt',\n",
              " '/content/drive/MyDrive/Data/Analyst report sample/VRSK_07212017.txt',\n",
              " '/content/drive/MyDrive/Data/Analyst report sample/POT_07312017.txt',\n",
              " '/content/drive/MyDrive/Data/Analyst report sample/ALB_08172017.txt',\n",
              " '/content/drive/MyDrive/Data/Analyst report sample/AZO_08242017.txt',\n",
              " '/content/drive/MyDrive/Data/Analyst report sample/ADSK_09012017.txt',\n",
              " '/content/drive/MyDrive/Data/Analyst report sample/ZION_09152017.txt',\n",
              " '/content/drive/MyDrive/Data/Analyst report sample/DOX_09222017.txt',\n",
              " '/content/drive/MyDrive/Data/Analyst report sample/IVZ_10042017.txt',\n",
              " '/content/drive/MyDrive/Data/Analyst report sample/ADSK_10052017.txt',\n",
              " '/content/drive/MyDrive/Data/Analyst report sample/RHHBY_10062017.txt',\n",
              " '/content/drive/MyDrive/Data/Analyst report sample/IT_10162017.txt',\n",
              " '/content/drive/MyDrive/Data/Analyst report sample/BDSI_10242017.txt',\n",
              " '/content/drive/MyDrive/Data/Analyst report sample/TRMB_10242017.txt',\n",
              " '/content/drive/MyDrive/Data/Analyst report sample/MAS_12272017.txt',\n",
              " '/content/drive/MyDrive/Data/Analyst report sample/RHI_01022018.txt',\n",
              " '/content/drive/MyDrive/Data/Analyst report sample/WHR_01022018.txt',\n",
              " '/content/drive/MyDrive/Data/Analyst report sample/IVZ_01082018.txt',\n",
              " '/content/drive/MyDrive/Data/Analyst report sample/OA_01082018.txt',\n",
              " '/content/drive/MyDrive/Data/Analyst report sample/MKL_01112018.txt',\n",
              " '/content/drive/MyDrive/Data/Analyst report sample/IP_02062018.txt',\n",
              " '/content/drive/MyDrive/Data/Analyst report sample/CCC_02082018.txt',\n",
              " '/content/drive/MyDrive/Data/Analyst report sample/IMDZ_02092018.txt',\n",
              " '/content/drive/MyDrive/Data/Analyst report sample/FTR_02122018.txt',\n",
              " '/content/drive/MyDrive/Data/Analyst report sample/TBPH_03092018.txt',\n",
              " '/content/drive/MyDrive/Data/Analyst report sample/CSRA_04182017.txt',\n",
              " '/content/drive/MyDrive/Data/Analyst report sample/RHHBY_03212018.txt',\n",
              " '/content/drive/MyDrive/Data/Analyst report sample/ETP_04132018.txt',\n",
              " '/content/drive/MyDrive/Data/Analyst report sample/AEM_04242018.txt',\n",
              " '/content/drive/MyDrive/Data/Analyst report sample/KLAC_05222018.txt',\n",
              " '/content/drive/MyDrive/Data/Analyst report sample/PEG_05232018.txt',\n",
              " '/content/drive/MyDrive/Data/Analyst report sample/MKC_06222018.txt',\n",
              " '/content/drive/MyDrive/Data/Analyst report sample/DFS_07032018.txt',\n",
              " '/content/drive/MyDrive/Data/Analyst report sample/UNH_07132018.txt',\n",
              " '/content/drive/MyDrive/Data/Analyst report sample/ANDE_07162018.txt',\n",
              " '/content/drive/MyDrive/Data/Analyst report sample/TROW_04102017.txt',\n",
              " '/content/drive/MyDrive/Data/Analyst report sample/ORA_08012018.txt',\n",
              " '/content/drive/MyDrive/Data/Analyst report sample/MAS_04282017.txt',\n",
              " '/content/drive/MyDrive/Data/Analyst report sample/ITW_08032018.txt',\n",
              " '/content/drive/MyDrive/Data/Analyst report sample/ATGE_09112018.txt',\n",
              " '/content/drive/MyDrive/Data/Analyst report sample/ENS_09142018.txt',\n",
              " '/content/drive/MyDrive/Data/Analyst report sample/IDXX_10092018.txt',\n",
              " '/content/drive/MyDrive/Data/Analyst report sample/HELE_10162018.txt',\n",
              " '/content/drive/MyDrive/Data/Analyst report sample/TROW_10292018.txt',\n",
              " '/content/drive/MyDrive/Data/Analyst report sample/OI_11222018.txt',\n",
              " '/content/drive/MyDrive/Data/Analyst report sample/CTAS_11272018.txt',\n",
              " '/content/drive/MyDrive/Data/Analyst report sample/ETR_12112018.txt',\n",
              " '/content/drive/MyDrive/Data/Analyst report sample/MUFG_12242018.txt',\n",
              " '/content/drive/MyDrive/Data/Analyst report sample/SNA_12262018.txt',\n",
              " '/content/drive/MyDrive/Data/Analyst report sample/SRPT_01032019.txt',\n",
              " '/content/drive/MyDrive/Data/Analyst report sample/CF_02122019.txt',\n",
              " '/content/drive/MyDrive/Data/Analyst report sample/TGI_02122019.txt',\n",
              " '/content/drive/MyDrive/Data/Analyst report sample/TWLO_03222019.txt',\n",
              " '/content/drive/MyDrive/Data/Analyst report sample/MLM_03262019.txt',\n",
              " '/content/drive/MyDrive/Data/Analyst report sample/GIII_03272019.txt',\n",
              " '/content/drive/MyDrive/Data/Analyst report sample/TWLO_04102019.txt',\n",
              " '/content/drive/MyDrive/Data/Analyst report sample/AVP_04222019.txt',\n",
              " '/content/drive/MyDrive/Data/Analyst report sample/NFG_05102019.txt',\n",
              " '/content/drive/MyDrive/Data/Analyst report sample/FLO_05132019.txt',\n",
              " '/content/drive/MyDrive/Data/Analyst report sample/HEI_05132019.txt',\n",
              " '/content/drive/MyDrive/Data/Analyst report sample/JBL_06192019.txt',\n",
              " '/content/drive/MyDrive/Data/Analyst report sample/JBL_06202019.txt',\n",
              " '/content/drive/MyDrive/Data/Analyst report sample/AMED_06252019.txt',\n",
              " '/content/drive/MyDrive/Data/Analyst report sample/AMED_07232019.txt',\n",
              " '/content/drive/MyDrive/Data/Analyst report sample/AGCO_09022019.txt',\n",
              " '/content/drive/MyDrive/Data/Analyst report sample/INFI_09042019.txt',\n",
              " '/content/drive/MyDrive/Data/Analyst report sample/HTH_11292019.txt',\n",
              " '/content/drive/MyDrive/Data/Analyst report sample/ISRG_12232019.txt',\n",
              " '/content/drive/MyDrive/Data/Analyst report sample/OLLI_01232020.txt',\n",
              " '/content/drive/MyDrive/Data/Analyst report sample/PAYX_01242020.txt',\n",
              " '/content/drive/MyDrive/Data/Analyst report sample/APH_01292020.txt',\n",
              " '/content/drive/MyDrive/Data/Analyst report sample/PODD_02202020.txt',\n",
              " '/content/drive/MyDrive/Data/Analyst report sample/EXC_03162020.txt',\n",
              " '/content/drive/MyDrive/Data/Analyst report sample/ROP_03172020.txt',\n",
              " '/content/drive/MyDrive/Data/Analyst report sample/GRUB_04282020.txt',\n",
              " '/content/drive/MyDrive/Data/Analyst report sample/FMC_05082020.txt',\n",
              " '/content/drive/MyDrive/Data/Analyst report sample/AJG_05202020.txt',\n",
              " '/content/drive/MyDrive/Data/Analyst report sample/GNTX_06242020.txt',\n",
              " '/content/drive/MyDrive/Data/Analyst report sample/RCL_06252020.txt',\n",
              " '/content/drive/MyDrive/Data/Analyst report sample/RLI_06292020.txt',\n",
              " '/content/drive/MyDrive/Data/Analyst report sample/NVAX_07022020.txt',\n",
              " '/content/drive/MyDrive/Data/Analyst report sample/GNTX_07092020.txt',\n",
              " '/content/drive/MyDrive/Data/Analyst report sample/RCL_08112020.txt',\n",
              " '/content/drive/MyDrive/Data/Analyst report sample/SPR_08142020.txt',\n",
              " '/content/drive/MyDrive/Data/Analyst report sample/ROKU_10052020.txt',\n",
              " '/content/drive/MyDrive/Data/Analyst report sample/ROKU_10082020.txt',\n",
              " '/content/drive/MyDrive/Data/Analyst report sample/BK_10082020.txt',\n",
              " '/content/drive/MyDrive/Data/Analyst report sample/ADP_10092020.txt',\n",
              " '/content/drive/MyDrive/Data/Analyst report sample/ROKU_10092020.txt',\n",
              " '/content/drive/MyDrive/Data/Analyst report sample/COF_10222020.txt',\n",
              " '/content/drive/MyDrive/Data/Analyst report sample/Y_11162020.txt',\n",
              " '/content/drive/MyDrive/Data/Analyst report sample/Y_11302020.txt',\n",
              " '/content/drive/MyDrive/Data/Analyst report sample/NINOY_12012020.txt',\n",
              " '/content/drive/MyDrive/Data/Analyst report sample/CYH_12042020.txt',\n",
              " '/content/drive/MyDrive/Data/Analyst report sample/NINOY_12142020.txt',\n",
              " '/content/drive/MyDrive/Data/Analyst report sample/ADI_06122020.txt']"
            ]
          },
          "metadata": {},
          "execution_count": 4
        }
      ]
    },
    {
      "cell_type": "code",
      "metadata": {
        "colab": {
          "base_uri": "https://localhost:8080/"
        },
        "id": "bJWVhEilXrJB",
        "outputId": "bd133552-4e45-4463-b27b-6756098f7219"
      },
      "source": [
        "type(all_files)"
      ],
      "execution_count": null,
      "outputs": [
        {
          "output_type": "execute_result",
          "data": {
            "text/plain": [
              "list"
            ]
          },
          "metadata": {},
          "execution_count": 5
        }
      ]
    },
    {
      "cell_type": "markdown",
      "metadata": {
        "id": "0h7mQryIX5ie"
      },
      "source": [
        "Defining CSV and Excel Folder for outputs"
      ]
    },
    {
      "cell_type": "code",
      "metadata": {
        "id": "YDV3t8WTXxex"
      },
      "source": [
        "CSV_path = \"/content/drive/Shareddrives/Msc DS-2020 /Fin Num Claim Detection/Data/CSV_Test_Path\""
      ],
      "execution_count": null,
      "outputs": []
    },
    {
      "cell_type": "code",
      "metadata": {
        "id": "6kiR_YXqYD2X"
      },
      "source": [
        "XLSX_path = \"/content/drive/Shareddrives/Msc DS-2020 /Fin Num Claim Detection/Data/XLSX_complete\""
      ],
      "execution_count": null,
      "outputs": []
    },
    {
      "cell_type": "markdown",
      "metadata": {
        "id": "tp0EH--HYQT2"
      },
      "source": [
        "Extracting filename without the extension"
      ]
    },
    {
      "cell_type": "code",
      "metadata": {
        "id": "JddwxLmeYLal"
      },
      "source": [
        "def Extract_filename(Text_data_path):\n",
        "    eg = os.path.basename(Text_data_path)\n",
        "    file_name, f_ext = os.path.splitext(eg)\n",
        "    return file_name"
      ],
      "execution_count": null,
      "outputs": []
    },
    {
      "cell_type": "markdown",
      "metadata": {
        "id": "aMBj50qhYb1g"
      },
      "source": [
        "Filtering numerical Sentences from txt files and converting it into CSV output files."
      ]
    },
    {
      "cell_type": "code",
      "metadata": {
        "id": "semG9IJBYW3M"
      },
      "source": [
        "for Text_data_path in all_files:\n",
        "\n",
        "    data = open(Text_data_path, encoding = \"latin1\")\n",
        "    list_data = [line.rstrip('\\n') for line in data]\n",
        "    str_data = str(list_data)\n",
        "    sentences = sent_tokenize(str_data)\n",
        "    text = []\n",
        "\n",
        "    for eachLine in sentences:\n",
        "        \n",
        "        if any(char.isdigit() for char in eachLine):\n",
        "            print (eachLine)\n",
        "            text.append(eachLine)\n",
        "            \n",
        "    file_name = Extract_filename(Text_data_path)\n",
        "    \n",
        "    df = pd.DataFrame(data={\"text\":text})\n",
        "    df.to_excel(XLSX_path+\"/\"+file_name+\".xlsx\",index=False)\n",
        "    \n",
        "    print(\"##################################################################################################################################################################################################################################################################\")\n"
      ],
      "execution_count": null,
      "outputs": []
    },
    {
      "cell_type": "markdown",
      "metadata": {
        "id": "k59qF_aRfqhO"
      },
      "source": [
        "Storing CSV Filenames in a list"
      ]
    },
    {
      "cell_type": "code",
      "metadata": {
        "id": "Pq_Ya7zEfJzR"
      },
      "source": [
        "XLSX_File_List = []"
      ],
      "execution_count": null,
      "outputs": []
    },
    {
      "cell_type": "code",
      "metadata": {
        "id": "RAqUX-MPZqNc"
      },
      "source": [
        "path = XLSX_path\n",
        "for XLSX_File in glob.glob(os.path.join(path, '*.xlsx')):\n",
        "    print(XLSX_File)\n",
        "    XLSX_File_List.append(XLSX_File)\n",
        "    df = pd.read_excel(XLSX_File)\n",
        "    print(df.shape)"
      ],
      "execution_count": null,
      "outputs": []
    },
    {
      "cell_type": "code",
      "metadata": {
        "id": "jLapfFOO9q4q"
      },
      "source": [
        "XLSX_File_List"
      ],
      "execution_count": null,
      "outputs": []
    },
    {
      "cell_type": "code",
      "metadata": {
        "colab": {
          "base_uri": "https://localhost:8080/"
        },
        "id": "lesNXXiRfKtT",
        "outputId": "0fc1be0a-163f-4b2f-ab49-7931ec85d463"
      },
      "source": [
        "df.shape"
      ],
      "execution_count": null,
      "outputs": [
        {
          "output_type": "execute_result",
          "data": {
            "text/plain": [
              "(38, 1)"
            ]
          },
          "metadata": {},
          "execution_count": 84
        }
      ]
    },
    {
      "cell_type": "markdown",
      "metadata": {
        "id": "TmXsk3JJjRzq"
      },
      "source": [
        "Snorkel"
      ]
    },
    {
      "cell_type": "code",
      "metadata": {
        "id": "vyQrOvqLjRHc"
      },
      "source": [
        "pip install snorkel"
      ],
      "execution_count": null,
      "outputs": []
    },
    {
      "cell_type": "code",
      "metadata": {
        "id": "xdyguUqbEkKO"
      },
      "source": [
        ""
      ],
      "execution_count": null,
      "outputs": []
    },
    {
      "cell_type": "code",
      "metadata": {
        "id": "LU1nlRD6jU9d",
        "colab": {
          "base_uri": "https://localhost:8080/"
        },
        "outputId": "4a68a750-ed85-49d6-d9fd-21261e7d7adb"
      },
      "source": [
        "from sklearn.model_selection import train_test_split\n",
        "\n",
        "training_data, testing_data = train_test_split(df, test_size=0.2, random_state=25)\n",
        "\n",
        "print(f\"No. of training examples: {training_data.shape[0]}\")\n",
        "print(f\"No. of testing examples: {testing_data.shape[0]}\")"
      ],
      "execution_count": null,
      "outputs": [
        {
          "output_type": "stream",
          "name": "stdout",
          "text": [
            "No. of training examples: 30\n",
            "No. of testing examples: 8\n"
          ]
        }
      ]
    },
    {
      "cell_type": "code",
      "metadata": {
        "id": "HA4qSvah7ovM"
      },
      "source": [
        "from snorkel.labeling import labeling_function"
      ],
      "execution_count": null,
      "outputs": []
    },
    {
      "cell_type": "code",
      "metadata": {
        "id": "Rmxvds__7rRC"
      },
      "source": [
        "inclaim=1\n",
        "outclaim=0\n",
        "abstain=-1"
      ],
      "execution_count": null,
      "outputs": []
    },
    {
      "cell_type": "code",
      "metadata": {
        "id": "Iq-VXQ-n7uvT"
      },
      "source": [
        "@labeling_function()\n",
        "def lf_contains_growth(df):\n",
        "  return inclaim if \"growth\" in df.text.lower() else outclaim\n",
        "\n",
        "@labeling_function()\n",
        "def lf_contains_exceeds(df):\n",
        "    return inclaim if \"exceeds\" in df.text.lower() else outclaim\n",
        "\n",
        "@labeling_function()\n",
        "def lf_contains_gains(df):\n",
        "  return inclaim if \"increased\" in df.text.lower() else outclaim"
      ],
      "execution_count": null,
      "outputs": []
    },
    {
      "cell_type": "code",
      "metadata": {
        "colab": {
          "base_uri": "https://localhost:8080/"
        },
        "id": "J9QdoLXu7xV9",
        "outputId": "807de78b-28d4-4218-e335-20f023b89da7"
      },
      "source": [
        "from snorkel.labeling import PandasLFApplier\n",
        "\n",
        "lfs = [lf_contains_growth, lf_contains_exceeds,lf_contains_gains]\n",
        "\n",
        "applier = PandasLFApplier(lfs=lfs)\n",
        "L_train = applier.apply(df=training_data)"
      ],
      "execution_count": null,
      "outputs": [
        {
          "output_type": "stream",
          "name": "stderr",
          "text": [
            "100%|██████████| 30/30 [00:00<00:00, 11415.14it/s]\n"
          ]
        }
      ]
    },
    {
      "cell_type": "code",
      "metadata": {
        "colab": {
          "base_uri": "https://localhost:8080/"
        },
        "id": "fSLyOgoX88US",
        "outputId": "3a89c375-22dd-4f2b-c41d-cc0a2bf819fe"
      },
      "source": [
        "L_train"
      ],
      "execution_count": null,
      "outputs": [
        {
          "output_type": "execute_result",
          "data": {
            "text/plain": [
              "array([[0, 0, 0],\n",
              "       [0, 0, 0],\n",
              "       [0, 0, 0],\n",
              "       [0, 0, 0],\n",
              "       [0, 0, 0],\n",
              "       [0, 0, 0],\n",
              "       [1, 0, 0],\n",
              "       [0, 0, 0],\n",
              "       [0, 0, 0],\n",
              "       [0, 0, 0],\n",
              "       [0, 0, 0],\n",
              "       [0, 0, 0],\n",
              "       [0, 0, 0],\n",
              "       [0, 0, 0],\n",
              "       [0, 0, 0],\n",
              "       [0, 0, 0],\n",
              "       [0, 0, 0],\n",
              "       [0, 0, 0],\n",
              "       [1, 0, 0],\n",
              "       [0, 0, 0],\n",
              "       [0, 0, 0],\n",
              "       [0, 0, 0],\n",
              "       [0, 0, 0],\n",
              "       [0, 0, 0],\n",
              "       [0, 0, 0],\n",
              "       [0, 0, 0],\n",
              "       [0, 0, 1],\n",
              "       [0, 0, 0],\n",
              "       [0, 0, 0],\n",
              "       [0, 0, 0]])"
            ]
          },
          "metadata": {},
          "execution_count": 121
        }
      ]
    },
    {
      "cell_type": "code",
      "metadata": {
        "colab": {
          "base_uri": "https://localhost:8080/"
        },
        "id": "qMp-7zsLsg07",
        "outputId": "3dbf4529-e552-4fe2-b394-65e3a0588494"
      },
      "source": [
        "coverage_grow, coverage_exceed, coverage_gains = (L_train != outclaim).mean(axis=0)\n",
        "print(f\"check_out coverage: {coverage_grow * 100:.1f}%\")\n",
        "print(f\"coverage_exceed: {coverage_exceed * 100:.1f}%\")\n",
        "print(f\"coverage_gains: {coverage_gains * 100:.1f}%\")"
      ],
      "execution_count": null,
      "outputs": [
        {
          "output_type": "stream",
          "name": "stdout",
          "text": [
            "check_out coverage: 6.7%\n",
            "coverage_exceed: 0.0%\n",
            "coverage_gains: 3.3%\n"
          ]
        }
      ]
    }
  ]
}
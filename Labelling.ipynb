{
  "nbformat": 4,
  "nbformat_minor": 0,
  "metadata": {
    "colab": {
      "name": "Labelling.ipynb",
      "provenance": [],
      "collapsed_sections": []
    },
    "kernelspec": {
      "name": "python3",
      "display_name": "Python 3"
    },
    "language_info": {
      "name": "python"
    }
  },
  "cells": [
    {
      "cell_type": "code",
      "metadata": {
        "colab": {
          "base_uri": "https://localhost:8080/"
        },
        "id": "tnl7RdJlT5xM",
        "outputId": "9632e189-4fc8-4a50-b542-3a40551b42ac"
      },
      "source": [
        "from google.colab import drive\n",
        "drive.mount('/content/drive')"
      ],
      "execution_count": null,
      "outputs": [
        {
          "output_type": "stream",
          "name": "stdout",
          "text": [
            "Drive already mounted at /content/drive; to attempt to forcibly remount, call drive.mount(\"/content/drive\", force_remount=True).\n"
          ]
        }
      ]
    },
    {
      "cell_type": "code",
      "metadata": {
        "id": "-lEzVqQg9uQl",
        "colab": {
          "base_uri": "https://localhost:8080/"
        },
        "outputId": "2ad5c99b-1f0c-47ff-e67e-5c926673f53f"
      },
      "source": [
        "pip install snorkel"
      ],
      "execution_count": null,
      "outputs": [
        {
          "output_type": "stream",
          "name": "stdout",
          "text": [
            "Collecting snorkel\n",
            "  Downloading snorkel-0.9.7-py3-none-any.whl (145 kB)\n",
            "\u001b[?25l\r\u001b[K     |██▎                             | 10 kB 27.6 MB/s eta 0:00:01\r\u001b[K     |████▌                           | 20 kB 31.2 MB/s eta 0:00:01\r\u001b[K     |██████▊                         | 30 kB 20.5 MB/s eta 0:00:01\r\u001b[K     |█████████                       | 40 kB 17.1 MB/s eta 0:00:01\r\u001b[K     |███████████▎                    | 51 kB 8.3 MB/s eta 0:00:01\r\u001b[K     |█████████████▌                  | 61 kB 8.0 MB/s eta 0:00:01\r\u001b[K     |███████████████▊                | 71 kB 8.3 MB/s eta 0:00:01\r\u001b[K     |██████████████████              | 81 kB 9.3 MB/s eta 0:00:01\r\u001b[K     |████████████████████▎           | 92 kB 9.7 MB/s eta 0:00:01\r\u001b[K     |██████████████████████▌         | 102 kB 7.7 MB/s eta 0:00:01\r\u001b[K     |████████████████████████▉       | 112 kB 7.7 MB/s eta 0:00:01\r\u001b[K     |███████████████████████████     | 122 kB 7.7 MB/s eta 0:00:01\r\u001b[K     |█████████████████████████████▎  | 133 kB 7.7 MB/s eta 0:00:01\r\u001b[K     |███████████████████████████████▌| 143 kB 7.7 MB/s eta 0:00:01\r\u001b[K     |████████████████████████████████| 145 kB 7.7 MB/s \n",
            "\u001b[?25hCollecting munkres>=1.0.6\n",
            "  Downloading munkres-1.1.4-py2.py3-none-any.whl (7.0 kB)\n",
            "Requirement already satisfied: numpy<1.20.0,>=1.16.5 in /usr/local/lib/python3.7/dist-packages (from snorkel) (1.19.5)\n",
            "Requirement already satisfied: scikit-learn<0.25.0,>=0.20.2 in /usr/local/lib/python3.7/dist-packages (from snorkel) (0.22.2.post1)\n",
            "Requirement already satisfied: tqdm<5.0.0,>=4.33.0 in /usr/local/lib/python3.7/dist-packages (from snorkel) (4.62.3)\n",
            "Collecting tensorboard<2.0.0,>=1.14.0\n",
            "  Downloading tensorboard-1.15.0-py3-none-any.whl (3.8 MB)\n",
            "\u001b[K     |████████████████████████████████| 3.8 MB 52.5 MB/s \n",
            "\u001b[?25hRequirement already satisfied: torch<2.0.0,>=1.2.0 in /usr/local/lib/python3.7/dist-packages (from snorkel) (1.9.0+cu102)\n",
            "Requirement already satisfied: pandas<2.0.0,>=1.0.0 in /usr/local/lib/python3.7/dist-packages (from snorkel) (1.1.5)\n",
            "Collecting networkx<2.4,>=2.2\n",
            "  Downloading networkx-2.3.zip (1.7 MB)\n",
            "\u001b[K     |████████████████████████████████| 1.7 MB 70.5 MB/s \n",
            "\u001b[?25hRequirement already satisfied: scipy<2.0.0,>=1.2.0 in /usr/local/lib/python3.7/dist-packages (from snorkel) (1.4.1)\n",
            "Requirement already satisfied: decorator>=4.3.0 in /usr/local/lib/python3.7/dist-packages (from networkx<2.4,>=2.2->snorkel) (4.4.2)\n",
            "Requirement already satisfied: python-dateutil>=2.7.3 in /usr/local/lib/python3.7/dist-packages (from pandas<2.0.0,>=1.0.0->snorkel) (2.8.2)\n",
            "Requirement already satisfied: pytz>=2017.2 in /usr/local/lib/python3.7/dist-packages (from pandas<2.0.0,>=1.0.0->snorkel) (2018.9)\n",
            "Requirement already satisfied: six>=1.5 in /usr/local/lib/python3.7/dist-packages (from python-dateutil>=2.7.3->pandas<2.0.0,>=1.0.0->snorkel) (1.15.0)\n",
            "Requirement already satisfied: joblib>=0.11 in /usr/local/lib/python3.7/dist-packages (from scikit-learn<0.25.0,>=0.20.2->snorkel) (1.0.1)\n",
            "Requirement already satisfied: absl-py>=0.4 in /usr/local/lib/python3.7/dist-packages (from tensorboard<2.0.0,>=1.14.0->snorkel) (0.12.0)\n",
            "Requirement already satisfied: markdown>=2.6.8 in /usr/local/lib/python3.7/dist-packages (from tensorboard<2.0.0,>=1.14.0->snorkel) (3.3.4)\n",
            "Requirement already satisfied: werkzeug>=0.11.15 in /usr/local/lib/python3.7/dist-packages (from tensorboard<2.0.0,>=1.14.0->snorkel) (1.0.1)\n",
            "Requirement already satisfied: grpcio>=1.6.3 in /usr/local/lib/python3.7/dist-packages (from tensorboard<2.0.0,>=1.14.0->snorkel) (1.40.0)\n",
            "Requirement already satisfied: setuptools>=41.0.0 in /usr/local/lib/python3.7/dist-packages (from tensorboard<2.0.0,>=1.14.0->snorkel) (57.4.0)\n",
            "Requirement already satisfied: wheel>=0.26 in /usr/local/lib/python3.7/dist-packages (from tensorboard<2.0.0,>=1.14.0->snorkel) (0.37.0)\n",
            "Requirement already satisfied: protobuf>=3.6.0 in /usr/local/lib/python3.7/dist-packages (from tensorboard<2.0.0,>=1.14.0->snorkel) (3.17.3)\n",
            "Requirement already satisfied: importlib-metadata in /usr/local/lib/python3.7/dist-packages (from markdown>=2.6.8->tensorboard<2.0.0,>=1.14.0->snorkel) (4.8.1)\n",
            "Requirement already satisfied: typing-extensions in /usr/local/lib/python3.7/dist-packages (from torch<2.0.0,>=1.2.0->snorkel) (3.7.4.3)\n",
            "Requirement already satisfied: zipp>=0.5 in /usr/local/lib/python3.7/dist-packages (from importlib-metadata->markdown>=2.6.8->tensorboard<2.0.0,>=1.14.0->snorkel) (3.5.0)\n",
            "Building wheels for collected packages: networkx\n",
            "  Building wheel for networkx (setup.py) ... \u001b[?25l\u001b[?25hdone\n",
            "  Created wheel for networkx: filename=networkx-2.3-py2.py3-none-any.whl size=1556009 sha256=5b32d8fe1849baed2e87c018a6a7010b8976625831c8e33874b23d46623b316d\n",
            "  Stored in directory: /root/.cache/pip/wheels/44/e6/b8/4efaab31158e9e9ca9ed80b11f6b11130bac9a9672b3cbbeaf\n",
            "Successfully built networkx\n",
            "Installing collected packages: tensorboard, networkx, munkres, snorkel\n",
            "  Attempting uninstall: tensorboard\n",
            "    Found existing installation: tensorboard 2.6.0\n",
            "    Uninstalling tensorboard-2.6.0:\n",
            "      Successfully uninstalled tensorboard-2.6.0\n",
            "  Attempting uninstall: networkx\n",
            "    Found existing installation: networkx 2.6.3\n",
            "    Uninstalling networkx-2.6.3:\n",
            "      Successfully uninstalled networkx-2.6.3\n",
            "\u001b[31mERROR: pip's dependency resolver does not currently take into account all the packages that are installed. This behaviour is the source of the following dependency conflicts.\n",
            "tensorflow 2.6.0 requires tensorboard~=2.6, but you have tensorboard 1.15.0 which is incompatible.\n",
            "albumentations 0.1.12 requires imgaug<0.2.7,>=0.2.5, but you have imgaug 0.2.9 which is incompatible.\u001b[0m\n",
            "Successfully installed munkres-1.1.4 networkx-2.3 snorkel-0.9.7 tensorboard-1.15.0\n"
          ]
        }
      ]
    },
    {
      "cell_type": "code",
      "metadata": {
        "id": "YWVWYsRaAtVq"
      },
      "source": [
        "import os\n",
        "import glob\n",
        "import pandas as pd"
      ],
      "execution_count": null,
      "outputs": []
    },
    {
      "cell_type": "code",
      "metadata": {
        "id": "IQqRX_u--yL1"
      },
      "source": [
        "from sklearn.model_selection import train_test_split"
      ],
      "execution_count": null,
      "outputs": []
    },
    {
      "cell_type": "code",
      "metadata": {
        "id": "xzCAbJv3-4pr"
      },
      "source": [
        "from snorkel.labeling import labeling_function"
      ],
      "execution_count": null,
      "outputs": []
    },
    {
      "cell_type": "code",
      "metadata": {
        "id": "wpwZqgOV-5iQ"
      },
      "source": [
        "from snorkel.labeling import PandasLFApplier"
      ],
      "execution_count": null,
      "outputs": []
    },
    {
      "cell_type": "code",
      "metadata": {
        "id": "41ymbnN9eNqY"
      },
      "source": [
        "from snorkel.labeling import LFAnalysis"
      ],
      "execution_count": null,
      "outputs": []
    },
    {
      "cell_type": "code",
      "metadata": {
        "id": "OYCdu7_wAnPA"
      },
      "source": [
        "XLSX_path = \"/content/drive/Shareddrives/Msc DS-2020 /Fin Num Claim Detection/Data/XLSX_complete\""
      ],
      "execution_count": null,
      "outputs": []
    },
    {
      "cell_type": "code",
      "metadata": {
        "colab": {
          "base_uri": "https://localhost:8080/"
        },
        "id": "1DprPOsV9xYw",
        "outputId": "02157a9b-90fb-4173-95ff-a062b7cd3a22"
      },
      "source": [
        "# Using it for the \"For\" Loop so that it runs through very excel file\n",
        "os.chdir(XLSX_path)\n",
        "FileList = glob.glob('*.xlsx')\n",
        "print(FileList)\n"
      ],
      "execution_count": null,
      "outputs": [
        {
          "output_type": "stream",
          "name": "stdout",
          "text": [
            "['MS_05262017.xlsx', 'CHTR_05302017.xlsx', 'LM_06132017.xlsx', 'SNV_06272017.xlsx', 'VRSN_06292017.xlsx', 'VRSK_07212017.xlsx', 'POT_07312017.xlsx', 'ALB_08172017.xlsx', 'AZO_08242017.xlsx', 'ADSK_09012017.xlsx', 'ZION_09152017.xlsx', 'DOX_09222017.xlsx', 'IVZ_10042017.xlsx', 'ADSK_10052017.xlsx', 'RHHBY_10062017.xlsx', 'IT_10162017.xlsx', 'BDSI_10242017.xlsx', 'TRMB_10242017.xlsx', 'MAS_12272017.xlsx', 'RHI_01022018.xlsx', 'WHR_01022018.xlsx', 'IVZ_01082018.xlsx', 'OA_01082018.xlsx', 'MKL_01112018.xlsx', 'IP_02062018.xlsx', 'CCC_02082018.xlsx', 'IMDZ_02092018.xlsx', 'FTR_02122018.xlsx', 'TBPH_03092018.xlsx', 'CSRA_04182017.xlsx', 'RHHBY_03212018.xlsx', 'ETP_04132018.xlsx', 'KLAC_05222018.xlsx', 'PEG_05232018.xlsx', 'MKC_06222018.xlsx', 'DFS_07032018.xlsx', 'UNH_07132018.xlsx', 'ANDE_07162018.xlsx', 'TROW_04102017.xlsx', 'ORA_08012018.xlsx', 'MAS_04282017.xlsx', 'ITW_08032018.xlsx', 'ATGE_09112018.xlsx', 'ENS_09142018.xlsx', 'IDXX_10092018.xlsx', 'HELE_10162018.xlsx', 'TROW_10292018.xlsx', 'OI_11222018.xlsx', 'CTAS_11272018.xlsx', 'ETR_12112018.xlsx', 'MUFG_12242018.xlsx', 'SNA_12262018.xlsx', 'SRPT_01032019.xlsx', 'CF_02122019.xlsx', 'TGI_02122019.xlsx', 'TWLO_03222019.xlsx', 'MLM_03262019.xlsx', 'GIII_03272019.xlsx', 'TWLO_04102019.xlsx', 'AVP_04222019.xlsx', 'NFG_05102019.xlsx', 'FLO_05132019.xlsx', 'HEI_05132019.xlsx', 'JBL_06192019.xlsx', 'JBL_06202019.xlsx', 'AMED_06252019.xlsx', 'AMED_07232019.xlsx', 'AGCO_09022019.xlsx', 'INFI_09042019.xlsx', 'HTH_11292019.xlsx', 'ISRG_12232019.xlsx', 'OLLI_01232020.xlsx', 'PAYX_01242020.xlsx', 'APH_01292020.xlsx', 'PODD_02202020.xlsx', 'EXC_03162020.xlsx', 'ROP_03172020.xlsx', 'GRUB_04282020.xlsx', 'FMC_05082020.xlsx', 'AJG_05202020.xlsx', 'GNTX_06242020.xlsx', 'RCL_06252020.xlsx', 'RLI_06292020.xlsx', 'NVAX_07022020.xlsx', 'GNTX_07092020.xlsx', 'RCL_08112020.xlsx', 'SPR_08142020.xlsx', 'ROKU_10052020.xlsx', 'ROKU_10082020.xlsx', 'BK_10082020.xlsx', 'ADP_10092020.xlsx', 'ROKU_10092020.xlsx', 'COF_10222020.xlsx', 'Y_11162020.xlsx', 'Y_11302020.xlsx', 'NINOY_12012020.xlsx', 'CYH_12042020.xlsx', 'NINOY_12142020.xlsx', 'ADI_06122020.xlsx', 'AEM_04242018.xlsx']\n"
          ]
        }
      ]
    },
    {
      "cell_type": "code",
      "metadata": {
        "id": "lKNYlYzeDhJJ"
      },
      "source": [
        "inclaim=1\n",
        "outclaim=0\n",
        "abstain=-1"
      ],
      "execution_count": null,
      "outputs": []
    },
    {
      "cell_type": "code",
      "metadata": {
        "id": "YpkAv2GrDjnQ"
      },
      "source": [
        "@labeling_function()\n",
        "def lf_contains_growth(df):\n",
        "  return inclaim if \"growth\" in df.text.lower() else outclaim\n",
        "\n",
        "@labeling_function()\n",
        "def lf_contains_exceeds(df):\n",
        "    return inclaim if \"exceeds\" in df.text.lower() else outclaim\n",
        "\n",
        "@labeling_function()\n",
        "def lf_contains_gains(df):\n",
        "  return inclaim if \"gains\" in df.text.lower() else outclaim\n",
        "\n",
        "@labeling_function()\n",
        "def lf_contains_increased(df):\n",
        "  return inclaim if \"increased\" in df.text.lower() else outclaim\n",
        "\n",
        "\n",
        "@labeling_function()\n",
        "def lf_contains_ratio(df):\n",
        "  return inclaim if \"ratio\" in df.text.lower() else outclaim\n",
        "\n",
        "\n",
        "@labeling_function()\n",
        "def lf_contains_fiscal(df):\n",
        "  return inclaim if \"fiscal\" in df.text.lower() else outclaim\n",
        "\n",
        "@labeling_function()\n",
        "def lf_contains_decline(df):\n",
        "  return inclaim if \"decline\" in df.text.lower() else outclaim\n",
        "\n",
        "@labeling_function()\n",
        "def lf_contains_earn(df):\n",
        "  return inclaim if \"earn\" in df.text.lower() else outclaim\n",
        "\n",
        "@labeling_function()\n",
        "def lf_contains_estimate(df):\n",
        "  return inclaim if \"estimate\" in df.text.lower() else outclaim\n",
        "\n",
        "@labeling_function()\n",
        "def lf_contains_revenue(df):\n",
        "  return inclaim if \"revenue\" in df.text.lower() else outclaim\n",
        "\n",
        "@labeling_function()\n",
        "def lf_contains_consensus(df):\n",
        "  return inclaim if \"consensus\" in df.text.lower() else outclaim\n",
        "\n",
        "@labeling_function()\n",
        "def lf_contains_decrease(df):\n",
        "  return inclaim if \"decrease\" in df.text.lower() else outclaim\n",
        "\n",
        "@labeling_function()\n",
        "def lf_contains_up(df):\n",
        "  return inclaim if \"up\" in df.text.lower() else outclaim\n",
        "\n",
        "@labeling_function()\n",
        "def lf_contains_down(df):\n",
        "  return inclaim if \"down\" in df.text.lower() else outclaim\n",
        "\n",
        "@labeling_function()\n",
        "def lf_contains_capital_expenditures(df):\n",
        "  return inclaim if \"capital expenditures\" in df.text.lower() else outclaim\n",
        "\n",
        "@labeling_function()\n",
        "def lf_contains_worth(df):\n",
        "  return inclaim if \"worth\" in df.text.lower() else outclaim\n",
        "\n",
        "@labeling_function()\n",
        "def lf_contains_contribute(df):\n",
        "  return inclaim if \"conntribute\" in df.text.lower() else outclaim\n",
        "\n",
        "@labeling_function()\n",
        "def lf_contains_account(df):\n",
        "  return inclaim if \"account\" in df.text.lower() else outclaim\n",
        "\n",
        "@labeling_function()\n",
        "def lf_contains_represent(df):\n",
        "  return inclaim if \"represent\" in df.text.lower() else outclaim\n",
        "\n",
        "@labeling_function()\n",
        "def lf_contains_equity(df):\n",
        "  return inclaim if \"equity\" in df.text.lower() else outclaim\n",
        "\n",
        "@labeling_function()\n",
        "def lf_contains_expense_surge(df):\n",
        "  return inclaim if \"expense surge\" in df.text.lower() else outclaim\n",
        "\n",
        "@labeling_function()\n",
        "def lf_contains_industrial_stocks(df):\n",
        "  return inclaim if \"industrial stocks\" in df.text.lower() else outclaim\n",
        "\n",
        "@labeling_function()\n",
        "def lf_contains_high(df):\n",
        "  return inclaim if \"high\" in df.text.lower() else outclaim\n",
        "\n",
        "@labeling_function()\n",
        "def lf_contains_low(df):\n",
        "  return inclaim if \"low\" in df.text.lower() else outclaim\n",
        "\n",
        "@labeling_function()\n",
        "def lf_contains_net_income(df):\n",
        "  return inclaim if \"net inncome\" in df.text.lower() else outclaim\n",
        "\n",
        "@labeling_function()\n",
        "def lf_contains_profit(df):\n",
        "  return inclaim if \"profit\" in df.text.lower() else outclaim\n",
        "\n",
        "@labeling_function()\n",
        "def lf_contains_net_sales(df):\n",
        "  return inclaim if \"net sales\" in df.text.lower() else outclaim\n",
        "\n",
        "@labeling_function()\n",
        "def lf_contains_cash_equivalents(df):\n",
        "  return inclaim if \"cash equivalents\" in df.text.lower() else outclaim\n",
        "\n",
        "@labeling_function()\n",
        "def lf_contains_share(df):\n",
        "  return inclaim if \"share\" in df.text.lower() else outclaim\n",
        "\n",
        "@labeling_function()\n",
        "def lf_contains_supply(df):\n",
        "  return inclaim if \"supply\" in df.text.lower() else outclaim\n",
        "\n",
        "@labeling_function()\n",
        "def lf_contains_impact(df):\n",
        "  return inclaim if \"impact\" in df.text.lower() else outclaim\n",
        "\n",
        "@labeling_function()\n",
        "def lf_contains_band(df):\n",
        "  return inclaim if \"band\" in df.text.lower() else outclaim\n",
        "\n",
        "@labeling_function()\n",
        "def lf_contains_margin(df):\n",
        "  return inclaim if \"margin\" in df.text.lower() else outclaim\n",
        "\n",
        "@labeling_function()\n",
        "def lf_contains_rose(df):\n",
        "  return inclaim if \"rose\" in df.text.lower() else outclaim\n",
        "\n",
        "@labeling_function()\n",
        "def lf_contains_totaled(df):\n",
        "  return inclaim if \"totaled\" in df.text.lower() else outclaim"
      ],
      "execution_count": null,
      "outputs": []
    },
    {
      "cell_type": "code",
      "metadata": {
        "id": "FMHfiqkADr2D"
      },
      "source": [
        "lfs = [lf_contains_growth, lf_contains_exceeds,]\n",
        "applier = PandasLFApplier(lfs=lfs)"
      ],
      "execution_count": null,
      "outputs": []
    },
    {
      "cell_type": "code",
      "metadata": {
        "id": "2QVstjOXA_9j"
      },
      "source": [
        "for i in FileList:\n",
        "  xlsx_file = XLSX_path+\"/\"+i\n",
        "  print(xlsx_file)\n",
        "  df = pd.read_excel(xlsx_file)\n",
        "  print(\"Shape -\",df.shape)\n",
        "\n",
        "  training_data, testing_data = train_test_split(df, test_size=0.2, random_state=25)\n",
        "\n",
        "  print(f\"No. of training examples: {training_data.shape[0]}\")\n",
        "  print(f\"No. of testing examples: {testing_data.shape[0]}\")\n",
        "\n",
        "\n",
        "  L_train = applier.apply(df=training_data)\n",
        "  print(L_train)\n",
        "\n",
        "  LFAnalysis(L=L_train, lfs=lfs).lf_summary()\n",
        "\n",
        "  coverage_check_out, coverage_check = (L_train != abstain).mean(axis=0)\n",
        "  print(f\"check_out coverage: {coverage_check_out * 100:.1f}%\")\n",
        "  print(f\"check coverage: {coverage_check * 100:.1f}%\")"
      ],
      "execution_count": null,
      "outputs": []
    },
    {
      "cell_type": "code",
      "metadata": {
        "id": "I70susTEhXF2"
      },
      "source": [
        "# lf_contains_gains, lf_contains_increased, lf_contains_ratio, lf_contains_fiscal, lf_contains_decline, lf_contains_earn, lf_contains_estimate, lf_contains_revenue, lf_contains_consensus, lf_contains_decrease, lf_contains_up, lf_contains_down, lf_contains_capital_expenditures, lf_contains_worth, lf_contains_contribute, lf_contains_account, lf_contains_represent, lf_contains_equity, lf_contains_expense_surge, lf_contains_industrial_stocks, lf_contains_high, lf_contains_low, lf_contains_net_income, lf_contains_profit, lf_contains_net_sales, lf_contains_cash_equivalents, lf_contains_share, lf_contains_supply, lf_contains_impact, lf_contains_band, lf_contains_margin, lf_contains_rose, lf_contains_totaled"
      ],
      "execution_count": null,
      "outputs": []
    },
    {
      "cell_type": "markdown",
      "metadata": {
        "id": "u-5niToYba5u"
      },
      "source": [
        "- Evaluate performance training"
      ]
    },
    {
      "cell_type": "code",
      "metadata": {
        "colab": {
          "base_uri": "https://localhost:8080/"
        },
        "id": "LvWNgDjlgDQu",
        "outputId": "9d019c8e-bd4d-4762-e518-3c3a98523914"
      },
      "source": [
        "print((L_train != abstain).mean(axis=0))"
      ],
      "execution_count": null,
      "outputs": [
        {
          "output_type": "stream",
          "name": "stdout",
          "text": [
            "[1. 1. 1. 1. 1. 1. 1. 1. 1. 1. 1. 1. 1. 1. 1. 1. 1. 1. 1. 1. 1. 1. 1. 1.\n",
            " 1. 1. 1. 1. 1. 1. 1. 1. 1. 1. 1.]\n"
          ]
        }
      ]
    },
    {
      "cell_type": "code",
      "metadata": {
        "id": "xrU5gjuLZ5Dt"
      },
      "source": [
        "'''coverage_check_out, coverage_check = (L_train != abstain).mean(axis=0)\n",
        "print(f\"check_out coverage: {coverage_check_out * 100:.1f}%\")\n",
        "print(f\"check coverage: {coverage_check * 100:.1f}%\")'''"
      ],
      "execution_count": null,
      "outputs": []
    },
    {
      "cell_type": "code",
      "metadata": {
        "id": "rV3yFKgeb70Y"
      },
      "source": [
        "#LFAnalysis(L=L_train, lfs=lfs).lf_summary()"
      ],
      "execution_count": null,
      "outputs": []
    },
    {
      "cell_type": "code",
      "metadata": {
        "colab": {
          "base_uri": "https://localhost:8080/",
          "height": 195
        },
        "id": "bTpOoxjzcNkd",
        "outputId": "be0635b6-3e29-4b56-d350-89f530ce5eb8"
      },
      "source": [
        "coverage_check_out, coverage_check = (L_train != abstain).mean(axis=0)\n",
        "print(f\"check_out coverage: {coverage_check_out * 100:.1f}%\")\n",
        "print(f\"check coverage: {coverage_check * 100:.1f}%\")"
      ],
      "execution_count": null,
      "outputs": [
        {
          "output_type": "error",
          "ename": "ValueError",
          "evalue": "ignored",
          "traceback": [
            "\u001b[0;31m---------------------------------------------------------------------------\u001b[0m",
            "\u001b[0;31mValueError\u001b[0m                                Traceback (most recent call last)",
            "\u001b[0;32m<ipython-input-32-76bf489e295f>\u001b[0m in \u001b[0;36m<module>\u001b[0;34m()\u001b[0m\n\u001b[0;32m----> 1\u001b[0;31m \u001b[0mcoverage_check_out\u001b[0m\u001b[0;34m,\u001b[0m \u001b[0mcoverage_check\u001b[0m \u001b[0;34m=\u001b[0m \u001b[0;34m(\u001b[0m\u001b[0mL_train\u001b[0m \u001b[0;34m!=\u001b[0m \u001b[0mabstain\u001b[0m\u001b[0;34m)\u001b[0m\u001b[0;34m.\u001b[0m\u001b[0mmean\u001b[0m\u001b[0;34m(\u001b[0m\u001b[0maxis\u001b[0m\u001b[0;34m=\u001b[0m\u001b[0;36m0\u001b[0m\u001b[0;34m)\u001b[0m\u001b[0;34m\u001b[0m\u001b[0;34m\u001b[0m\u001b[0m\n\u001b[0m\u001b[1;32m      2\u001b[0m \u001b[0mprint\u001b[0m\u001b[0;34m(\u001b[0m\u001b[0;34mf\"check_out coverage: {coverage_check_out * 100:.1f}%\"\u001b[0m\u001b[0;34m)\u001b[0m\u001b[0;34m\u001b[0m\u001b[0;34m\u001b[0m\u001b[0m\n\u001b[1;32m      3\u001b[0m \u001b[0mprint\u001b[0m\u001b[0;34m(\u001b[0m\u001b[0;34mf\"check coverage: {coverage_check * 100:.1f}%\"\u001b[0m\u001b[0;34m)\u001b[0m\u001b[0;34m\u001b[0m\u001b[0;34m\u001b[0m\u001b[0m\n",
            "\u001b[0;31mValueError\u001b[0m: too many values to unpack (expected 2)"
          ]
        }
      ]
    }
  ]
}